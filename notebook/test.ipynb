{
 "cells": [
  {
   "cell_type": "code",
   "id": "initial_id",
   "metadata": {
    "collapsed": true,
    "ExecuteTime": {
     "end_time": "2024-09-25T16:34:03.195513Z",
     "start_time": "2024-09-25T16:34:02.637224Z"
    }
   },
   "source": "import gdown",
   "outputs": [],
   "execution_count": 1
  },
  {
   "metadata": {
    "ExecuteTime": {
     "end_time": "2024-09-25T16:34:03.211075Z",
     "start_time": "2024-09-25T16:34:03.203041Z"
    }
   },
   "cell_type": "code",
   "source": "url = \"https://drive.google.com/file/d/1_wP8Z32PDJyoOrDI5u0LhxwZtYqwlkEk/view?usp=drive_link\"",
   "id": "9edef420b37b39ba",
   "outputs": [],
   "execution_count": 2
  },
  {
   "metadata": {
    "ExecuteTime": {
     "end_time": "2024-09-25T16:34:17.359511Z",
     "start_time": "2024-09-25T16:34:17.336299Z"
    }
   },
   "cell_type": "code",
   "source": "type(url)",
   "id": "5648d6f1dcf95eaa",
   "outputs": [
    {
     "data": {
      "text/plain": [
       "str"
      ]
     },
     "execution_count": 3,
     "metadata": {},
     "output_type": "execute_result"
    }
   ],
   "execution_count": 3
  },
  {
   "metadata": {
    "ExecuteTime": {
     "end_time": "2024-09-25T16:34:31.394285Z",
     "start_time": "2024-09-25T16:34:31.374452Z"
    }
   },
   "cell_type": "code",
   "source": [
    "file_id = url.split(\"/\")[-2]\n",
    "file_id"
   ],
   "id": "583352e6e539967",
   "outputs": [
    {
     "data": {
      "text/plain": [
       "'1_wP8Z32PDJyoOrDI5u0LhxwZtYqwlkEk'"
      ]
     },
     "execution_count": 4,
     "metadata": {},
     "output_type": "execute_result"
    }
   ],
   "execution_count": 4
  },
  {
   "metadata": {
    "ExecuteTime": {
     "end_time": "2024-09-25T16:38:13.624321Z",
     "start_time": "2024-09-25T16:38:06.102860Z"
    }
   },
   "cell_type": "code",
   "source": [
    "prefix = 'https://drive.google.com/uc?/export=download&id='\n",
    "gdown.download(prefix+file_id, \"sign_data.zip\")"
   ],
   "id": "60e464a37b371c3e",
   "outputs": [
    {
     "name": "stderr",
     "output_type": "stream",
     "text": [
      "Downloading...\n",
      "From: https://drive.google.com/uc?/export=download&id=1_wP8Z32PDJyoOrDI5u0LhxwZtYqwlkEk\n",
      "To: D:\\AI Projects\\ObjectDetection\\notebook\\sign_data.zip\n",
      "100%|██████████| 3.01M/3.01M [00:02<00:00, 1.40MB/s]\n"
     ]
    },
    {
     "data": {
      "text/plain": [
       "'sign_data.zip'"
      ]
     },
     "execution_count": 5,
     "metadata": {},
     "output_type": "execute_result"
    }
   ],
   "execution_count": 5
  },
  {
   "metadata": {},
   "cell_type": "code",
   "outputs": [],
   "execution_count": null,
   "source": "",
   "id": "b2181280a6d83043"
  }
 ],
 "metadata": {
  "kernelspec": {
   "display_name": "Python 3",
   "language": "python",
   "name": "python3"
  },
  "language_info": {
   "codemirror_mode": {
    "name": "ipython",
    "version": 2
   },
   "file_extension": ".py",
   "mimetype": "text/x-python",
   "name": "python",
   "nbconvert_exporter": "python",
   "pygments_lexer": "ipython2",
   "version": "2.7.6"
  }
 },
 "nbformat": 4,
 "nbformat_minor": 5
}
